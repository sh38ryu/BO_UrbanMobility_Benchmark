{
 "cells": [
  {
   "cell_type": "code",
   "execution_count": 1,
   "metadata": {},
   "outputs": [],
   "source": [
    "import xml.etree.ElementTree as ET\n",
    "import pandas as pd\n",
    "\n",
    "# Load XML file\n",
    "file_path = 'rou.xml'\n",
    "tree = ET.parse(file_path)\n",
    "root = tree.getroot()\n",
    "\n",
    "# Prepare a list to hold the vehicle data\n",
    "vehicle_data = []\n",
    "\n",
    "# Iterate over each vehicle element\n",
    "for vehicle in root.findall('vehicle'):\n",
    "    vehicle_id = vehicle.get('id')\n",
    "    from_taz = vehicle.get('fromTaz')\n",
    "    to_taz = vehicle.get('toTaz')\n",
    "    edges = vehicle.find('route').get('edges')\n",
    "\n",
    "    # Append the data as a dictionary\n",
    "    vehicle_data.append({\n",
    "        'id': vehicle_id,\n",
    "        'fromTaz': from_taz,\n",
    "        'toTaz': to_taz,\n",
    "        'route_edges': edges\n",
    "    })\n",
    "\n",
    "# Create a DataFrame from the vehicle data\n",
    "df = pd.DataFrame(vehicle_data)\n",
    "\n",
    "# # Display the DataFrame to the user\n",
    "# import ace_tools as tools; tools.display_dataframe_to_user(name=\"Vehicle Data\", dataframe=df)\n"
   ]
  }
 ],
 "metadata": {
  "kernelspec": {
   "display_name": "pyenv_311",
   "language": "python",
   "name": "python3"
  },
  "language_info": {
   "codemirror_mode": {
    "name": "ipython",
    "version": 3
   },
   "file_extension": ".py",
   "mimetype": "text/x-python",
   "name": "python",
   "nbconvert_exporter": "python",
   "pygments_lexer": "ipython3",
   "version": "3.11.11"
  }
 },
 "nbformat": 4,
 "nbformat_minor": 2
}
